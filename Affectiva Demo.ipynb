{
 "cells": [
  {
   "cell_type": "code",
   "execution_count": 7,
   "metadata": {},
   "outputs": [
    {
     "data": {
      "text/html": [
       "\n",
       "<head>\n",
       "  <title>Mimic Me!</title>\n",
       "  <script type=\"text/javascript\" src=\"https://code.jquery.com/jquery-3.1.1.min.js\"></script>\n",
       "  <script type=\"text/javascript\" src=\"https://maxcdn.bootstrapcdn.com/bootstrap/3.3.5/js/bootstrap.min.js\"></script>\n",
       "  <script type=\"text/javascript\" src=\"https://download.affectiva.com/js/3.2/affdex.js\"></script>\n",
       "  <link rel=\"stylesheet\" href=\"https://maxcdn.bootstrapcdn.com/bootstrap/3.3.5/css/bootstrap.min.css\" />\n",
       "  <link rel=\"stylesheet\" href=\"https://maxcdn.bootstrapcdn.com/bootstrap/3.3.5/css/bootstrap-theme.min.css\" />\n",
       "  <link rel=\"stylesheet\" href=\"mimic.css\" />\n",
       "</head>\n",
       "\n",
       "  <div class=\"container\">\n",
       "    <div class=\"row top\">\n",
       "      <div class=\"col-md-8 left\">\n",
       "        <div id=\"camera\"></div>\n",
       "      </div>\n",
       "      <div class=\"col-md-4 right\">\n",
       "        <h4>Mimic Me!</h4>\n",
       "        <div id=\"game\">\n",
       "          <div id=\"target\">?</div>\n",
       "          <div id=\"score\">Score: 0 / 0</div>\n",
       "        </div>\n",
       "        <div id=\"controls\">\n",
       "          <button id=\"start\" onclick=\"onStart()\">Start</button>\n",
       "          <button id=\"stop\" onclick=\"onStop()\">Stop</button>\n",
       "          <button id=\"reset\" onclick=\"onReset()\">Reset</button>\n",
       "        </div>\n",
       "        <div id=\"instructions\">\n",
       "          <h5>INSTRUCTIONS</h5>\n",
       "          <p>\n",
       "            <ul>\n",
       "              <li>Press <strong>Start</strong> to initialize the detector.</li>\n",
       "              <li>Your current emoji will be shown next to your head.</li>\n",
       "              <li>Mimic each emoji being displayed to score a point!</li>\n",
       "              <li>Press <strong>Stop</strong> to end the detector.</li>\n",
       "              <li>Watch the tracking results and log messages for more information.</li>\n",
       "            </ul>\n",
       "          </p>\n",
       "        </div>\n",
       "      </div>\n",
       "    </div>\n",
       "    <div class=\"row bottom\">\n",
       "      <div class=\"col-md-8 left\" id=\"instructions\">\n",
       "        <div id=\"results-container\">\n",
       "          <h5>EMOTION TRACKING RESULTS</h5>\n",
       "          <div id=\"results\"></div>\n",
       "        </div>\n",
       "      </div>\n",
       "      <div class=\"col-md-4 right\">\n",
       "        <div id=\"logs-container\">\n",
       "          <h5>DETECTOR LOG MSGS</h5>\n",
       "          <p id=\"logs\"></div>\n",
       "        </div>\n",
       "      </div>\n",
       "    </div>\n",
       "  </div>\n",
       "  <script type=\"text/javascript\" src=\"mimic.js\"></script>\n",
       "\n",
       "\n"
      ],
      "text/plain": [
       "<IPython.core.display.HTML object>"
      ]
     },
     "execution_count": 7,
     "metadata": {},
     "output_type": "execute_result"
    }
   ],
   "source": [
    "from IPython.display import HTML, display_html\n",
    "\n",
    "with open(\"index.html\",\"r\") as f:\n",
    "    index_html = f.read()\n",
    "    f.close()\n",
    "\n",
    "HTML(index_html.replace(\"<html>\",\"\").replace(\"<body>\",\"\").replace(\"</html>\",\"\").replace(\"</body>\",\"\"))"
   ]
  }
 ],
 "metadata": {
  "kernelspec": {
   "display_name": "Python 3",
   "language": "python",
   "name": "python3"
  },
  "language_info": {
   "codemirror_mode": {
    "name": "ipython",
    "version": 3
   },
   "file_extension": ".py",
   "mimetype": "text/x-python",
   "name": "python",
   "nbconvert_exporter": "python",
   "pygments_lexer": "ipython3",
   "version": "3.6.1"
  }
 },
 "nbformat": 4,
 "nbformat_minor": 2
}
